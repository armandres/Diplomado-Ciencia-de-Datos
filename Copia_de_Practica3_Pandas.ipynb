{
  "cells": [
    {
      "cell_type": "markdown",
      "metadata": {
        "id": "view-in-github",
        "colab_type": "text"
      },
      "source": [
        "<a href=\"https://colab.research.google.com/github/armandres/Diplomado-Ciencia-de-Datos/blob/main/Copia_de_Practica3_Pandas.ipynb\" target=\"_parent\"><img src=\"https://colab.research.google.com/assets/colab-badge.svg\" alt=\"Open In Colab\"/></a>"
      ]
    },
    {
      "cell_type": "markdown",
      "metadata": {
        "id": "U27yy_exrI8z"
      },
      "source": [
        "# Analizando las estadísticas de jugadores de futbol con Pandas\n",
        "\n",
        "![FIFA](https://upload.wikimedia.org/wikipedia/commons/thumb/a/aa/FIFA_logo_without_slogan.svg/1200px-FIFA_logo_without_slogan.svg.png)\n",
        "\n",
        "En esta notebook, utilizarás Pandas para analizar datos de jugadores de futbol (soccer). Los datos se encuentran en forma tabular e incluyen información relevante de jugadores de futbol de todo el mundo.\n",
        "\n",
        "---\n",
        "\n",
        "\n",
        "Cada fila en el conjunto de datos contiene información sobre el jugador:\n",
        "* Información personal: Nombre, nacionalidad, , edad, altura, peso y pierna preferida al jugar.\n",
        "* Información como jugador: Nombre del equipo en el que juega (Club), número de playera, posición en el campo (abreviada), valor comercial y salario.\n",
        "* Información sobre sus habilidades como jugador (0-100): Overall, Potential, Shooting, Defense, Passing, Physical, Control, Mental y GoalKeeping.\n",
        "\n",
        "\n",
        "Durante la notebook llevarás a cabo tareas de tratamiento y análisis exploratorio de datos comunmente realizadas. Buscarás información que podría resultar útil para las organizaciones.\n",
        "\n",
        "\n",
        "\n",
        "---\n",
        "\n",
        "\n",
        "\n",
        "Recuerda que puedes acudir a la [documentación de Pandas](https://pandas.pydata.org/pandas-docs/stable/reference/index.html) o a la notebook de Pandas del diplomado en ciencia de datos.\n",
        "\n"
      ]
    },
    {
      "cell_type": "markdown",
      "metadata": {
        "id": "YK63u5jI9TkW"
      },
      "source": [
        "Primero, importa Pandas en tu notebook:"
      ]
    },
    {
      "cell_type": "code",
      "execution_count": 1,
      "metadata": {
        "id": "3N4heqrqrFiv"
      },
      "outputs": [],
      "source": [
        "# pandas usando el alias pd\n",
        "import pandas as pd"
      ]
    },
    {
      "cell_type": "markdown",
      "metadata": {
        "id": "iWSmUVFgrJxA"
      },
      "source": [
        "Ejecuta la siguiente celda para cargar el conjunto de datos desde el repositorio en github a la máquina en colab."
      ]
    },
    {
      "cell_type": "code",
      "execution_count": 2,
      "metadata": {
        "id": "4touD7BqrOmJ",
        "colab": {
          "base_uri": "https://localhost:8080/"
        },
        "outputId": "c7ef72e7-c8da-4c80-d916-e634f38b2774"
      },
      "outputs": [
        {
          "output_type": "stream",
          "name": "stdout",
          "text": [
            "  % Total    % Received % Xferd  Average Speed   Time    Time     Time  Current\n",
            "                                 Dload  Upload   Total   Spent    Left  Speed\n",
            "100 1955k  100 1955k    0     0  3086k      0 --:--:-- --:--:-- --:--:-- 3084k\n"
          ]
        }
      ],
      "source": [
        "# Fetch the dataset using the raw GitHub URL.\n",
        "!curl --remote-name \\\n",
        "     -H 'Accept: application/vnd.github.v3.raw' \\\n",
        "     --location https://raw.githubusercontent.com/DCDPUAEM/DCDP/main/01%20Programaci%C3%B3n%20en%20Python/data/fifa/players.csv"
      ]
    },
    {
      "cell_type": "markdown",
      "metadata": {
        "id": "p5y0gMcxsRzY"
      },
      "source": [
        "Veamos las primeras líneas del archivo usando un comando de linux en la celda de colab:"
      ]
    },
    {
      "cell_type": "code",
      "execution_count": 3,
      "metadata": {
        "id": "-9y9q8fxsSCl",
        "colab": {
          "base_uri": "https://localhost:8080/"
        },
        "outputId": "b6e2be0f-6ec0-4be2-ad29-dc4dd7e08033"
      },
      "outputs": [
        {
          "output_type": "stream",
          "name": "stdout",
          "text": [
            "ID,Name,Nationality,Club,Jersey Number,Value,Wage,Age,Height,Weight,Preferred Foot,Position,Overall,Potential,Shooting,Defense,Passing,Physical,Control,Mental,GoalKeeping\n",
            "158023,L. Messi,Argentina,FC Barcelona,10.0,€110.5M,€565K,31,5'7,159lbs,Left,RF,94,94,86,41,87,80,96,95,11\n",
            "20801,Cristiano Ronaldo,Portugal,Juventus,7.0,€77M,€405K,33,6'2,183lbs,Right,ST,94,94,88,41,81,86,84,91,12\n",
            "190871,Neymar Jr,Brazil,Paris Saint-Germain,10.0,€118.5M,€290K,26,5'9,150lbs,Right,LW,92,93,81,42,80,79,92,92,12\n",
            "193080,De Gea,Spain,Manchester United,1.0,€72M,€260K,27,6'4,168lbs,Right,GK,91,93,21,18,39,56,34,75,89\n"
          ]
        }
      ],
      "source": [
        "!head -n 5 players.csv"
      ]
    },
    {
      "cell_type": "markdown",
      "metadata": {
        "id": "2llZPBeYr5EW"
      },
      "source": [
        "## Carga el conjunto de datos FIFA usando pandas"
      ]
    },
    {
      "cell_type": "code",
      "execution_count": 4,
      "metadata": {
        "id": "qpE38xDqr4xX",
        "colab": {
          "base_uri": "https://localhost:8080/",
          "height": 349
        },
        "outputId": "51e40ce8-00f0-4e58-ece1-4833c87e0933"
      },
      "outputs": [
        {
          "output_type": "execute_result",
          "data": {
            "text/plain": [
              "       ID               Name Nationality                 Club  Jersey Number  \\\n",
              "0  158023           L. Messi   Argentina         FC Barcelona           10.0   \n",
              "1   20801  Cristiano Ronaldo    Portugal             Juventus            7.0   \n",
              "2  190871          Neymar Jr      Brazil  Paris Saint-Germain           10.0   \n",
              "3  193080             De Gea       Spain    Manchester United            1.0   \n",
              "4  192985       K. De Bruyne     Belgium      Manchester City            7.0   \n",
              "\n",
              "     Value   Wage  Age Height  Weight  ... Position Overall  Potential  \\\n",
              "0  €110.5M  €565K   31    5'7  159lbs  ...       RF      94         94   \n",
              "1     €77M  €405K   33    6'2  183lbs  ...       ST      94         94   \n",
              "2  €118.5M  €290K   26    5'9  150lbs  ...       LW      92         93   \n",
              "3     €72M  €260K   27    6'4  168lbs  ...       GK      91         93   \n",
              "4    €102M  €355K   27   5'11  154lbs  ...      RCM      91         92   \n",
              "\n",
              "   Shooting  Defense  Passing  Physical  Control  Mental  GoalKeeping  \n",
              "0      86.0     41.0     87.0      80.0     96.0    95.0         11.0  \n",
              "1      88.0     41.0     81.0      86.0     84.0    91.0         12.0  \n",
              "2      81.0     42.0     80.0      79.0     92.0    92.0         12.0  \n",
              "3      21.0     18.0     39.0      56.0     34.0    75.0         89.0  \n",
              "4      81.0     65.0     92.0      77.0     85.0    91.0         11.0  \n",
              "\n",
              "[5 rows x 21 columns]"
            ],
            "text/html": [
              "\n",
              "  <div id=\"df-202c35f9-f01d-41ed-86fc-18a4a92c6ce0\" class=\"colab-df-container\">\n",
              "    <div>\n",
              "<style scoped>\n",
              "    .dataframe tbody tr th:only-of-type {\n",
              "        vertical-align: middle;\n",
              "    }\n",
              "\n",
              "    .dataframe tbody tr th {\n",
              "        vertical-align: top;\n",
              "    }\n",
              "\n",
              "    .dataframe thead th {\n",
              "        text-align: right;\n",
              "    }\n",
              "</style>\n",
              "<table border=\"1\" class=\"dataframe\">\n",
              "  <thead>\n",
              "    <tr style=\"text-align: right;\">\n",
              "      <th></th>\n",
              "      <th>ID</th>\n",
              "      <th>Name</th>\n",
              "      <th>Nationality</th>\n",
              "      <th>Club</th>\n",
              "      <th>Jersey Number</th>\n",
              "      <th>Value</th>\n",
              "      <th>Wage</th>\n",
              "      <th>Age</th>\n",
              "      <th>Height</th>\n",
              "      <th>Weight</th>\n",
              "      <th>...</th>\n",
              "      <th>Position</th>\n",
              "      <th>Overall</th>\n",
              "      <th>Potential</th>\n",
              "      <th>Shooting</th>\n",
              "      <th>Defense</th>\n",
              "      <th>Passing</th>\n",
              "      <th>Physical</th>\n",
              "      <th>Control</th>\n",
              "      <th>Mental</th>\n",
              "      <th>GoalKeeping</th>\n",
              "    </tr>\n",
              "  </thead>\n",
              "  <tbody>\n",
              "    <tr>\n",
              "      <th>0</th>\n",
              "      <td>158023</td>\n",
              "      <td>L. Messi</td>\n",
              "      <td>Argentina</td>\n",
              "      <td>FC Barcelona</td>\n",
              "      <td>10.0</td>\n",
              "      <td>€110.5M</td>\n",
              "      <td>€565K</td>\n",
              "      <td>31</td>\n",
              "      <td>5'7</td>\n",
              "      <td>159lbs</td>\n",
              "      <td>...</td>\n",
              "      <td>RF</td>\n",
              "      <td>94</td>\n",
              "      <td>94</td>\n",
              "      <td>86.0</td>\n",
              "      <td>41.0</td>\n",
              "      <td>87.0</td>\n",
              "      <td>80.0</td>\n",
              "      <td>96.0</td>\n",
              "      <td>95.0</td>\n",
              "      <td>11.0</td>\n",
              "    </tr>\n",
              "    <tr>\n",
              "      <th>1</th>\n",
              "      <td>20801</td>\n",
              "      <td>Cristiano Ronaldo</td>\n",
              "      <td>Portugal</td>\n",
              "      <td>Juventus</td>\n",
              "      <td>7.0</td>\n",
              "      <td>€77M</td>\n",
              "      <td>€405K</td>\n",
              "      <td>33</td>\n",
              "      <td>6'2</td>\n",
              "      <td>183lbs</td>\n",
              "      <td>...</td>\n",
              "      <td>ST</td>\n",
              "      <td>94</td>\n",
              "      <td>94</td>\n",
              "      <td>88.0</td>\n",
              "      <td>41.0</td>\n",
              "      <td>81.0</td>\n",
              "      <td>86.0</td>\n",
              "      <td>84.0</td>\n",
              "      <td>91.0</td>\n",
              "      <td>12.0</td>\n",
              "    </tr>\n",
              "    <tr>\n",
              "      <th>2</th>\n",
              "      <td>190871</td>\n",
              "      <td>Neymar Jr</td>\n",
              "      <td>Brazil</td>\n",
              "      <td>Paris Saint-Germain</td>\n",
              "      <td>10.0</td>\n",
              "      <td>€118.5M</td>\n",
              "      <td>€290K</td>\n",
              "      <td>26</td>\n",
              "      <td>5'9</td>\n",
              "      <td>150lbs</td>\n",
              "      <td>...</td>\n",
              "      <td>LW</td>\n",
              "      <td>92</td>\n",
              "      <td>93</td>\n",
              "      <td>81.0</td>\n",
              "      <td>42.0</td>\n",
              "      <td>80.0</td>\n",
              "      <td>79.0</td>\n",
              "      <td>92.0</td>\n",
              "      <td>92.0</td>\n",
              "      <td>12.0</td>\n",
              "    </tr>\n",
              "    <tr>\n",
              "      <th>3</th>\n",
              "      <td>193080</td>\n",
              "      <td>De Gea</td>\n",
              "      <td>Spain</td>\n",
              "      <td>Manchester United</td>\n",
              "      <td>1.0</td>\n",
              "      <td>€72M</td>\n",
              "      <td>€260K</td>\n",
              "      <td>27</td>\n",
              "      <td>6'4</td>\n",
              "      <td>168lbs</td>\n",
              "      <td>...</td>\n",
              "      <td>GK</td>\n",
              "      <td>91</td>\n",
              "      <td>93</td>\n",
              "      <td>21.0</td>\n",
              "      <td>18.0</td>\n",
              "      <td>39.0</td>\n",
              "      <td>56.0</td>\n",
              "      <td>34.0</td>\n",
              "      <td>75.0</td>\n",
              "      <td>89.0</td>\n",
              "    </tr>\n",
              "    <tr>\n",
              "      <th>4</th>\n",
              "      <td>192985</td>\n",
              "      <td>K. De Bruyne</td>\n",
              "      <td>Belgium</td>\n",
              "      <td>Manchester City</td>\n",
              "      <td>7.0</td>\n",
              "      <td>€102M</td>\n",
              "      <td>€355K</td>\n",
              "      <td>27</td>\n",
              "      <td>5'11</td>\n",
              "      <td>154lbs</td>\n",
              "      <td>...</td>\n",
              "      <td>RCM</td>\n",
              "      <td>91</td>\n",
              "      <td>92</td>\n",
              "      <td>81.0</td>\n",
              "      <td>65.0</td>\n",
              "      <td>92.0</td>\n",
              "      <td>77.0</td>\n",
              "      <td>85.0</td>\n",
              "      <td>91.0</td>\n",
              "      <td>11.0</td>\n",
              "    </tr>\n",
              "  </tbody>\n",
              "</table>\n",
              "<p>5 rows × 21 columns</p>\n",
              "</div>\n",
              "    <div class=\"colab-df-buttons\">\n",
              "\n",
              "  <div class=\"colab-df-container\">\n",
              "    <button class=\"colab-df-convert\" onclick=\"convertToInteractive('df-202c35f9-f01d-41ed-86fc-18a4a92c6ce0')\"\n",
              "            title=\"Convert this dataframe to an interactive table.\"\n",
              "            style=\"display:none;\">\n",
              "\n",
              "  <svg xmlns=\"http://www.w3.org/2000/svg\" height=\"24px\" viewBox=\"0 -960 960 960\">\n",
              "    <path d=\"M120-120v-720h720v720H120Zm60-500h600v-160H180v160Zm220 220h160v-160H400v160Zm0 220h160v-160H400v160ZM180-400h160v-160H180v160Zm440 0h160v-160H620v160ZM180-180h160v-160H180v160Zm440 0h160v-160H620v160Z\"/>\n",
              "  </svg>\n",
              "    </button>\n",
              "\n",
              "  <style>\n",
              "    .colab-df-container {\n",
              "      display:flex;\n",
              "      gap: 12px;\n",
              "    }\n",
              "\n",
              "    .colab-df-convert {\n",
              "      background-color: #E8F0FE;\n",
              "      border: none;\n",
              "      border-radius: 50%;\n",
              "      cursor: pointer;\n",
              "      display: none;\n",
              "      fill: #1967D2;\n",
              "      height: 32px;\n",
              "      padding: 0 0 0 0;\n",
              "      width: 32px;\n",
              "    }\n",
              "\n",
              "    .colab-df-convert:hover {\n",
              "      background-color: #E2EBFA;\n",
              "      box-shadow: 0px 1px 2px rgba(60, 64, 67, 0.3), 0px 1px 3px 1px rgba(60, 64, 67, 0.15);\n",
              "      fill: #174EA6;\n",
              "    }\n",
              "\n",
              "    .colab-df-buttons div {\n",
              "      margin-bottom: 4px;\n",
              "    }\n",
              "\n",
              "    [theme=dark] .colab-df-convert {\n",
              "      background-color: #3B4455;\n",
              "      fill: #D2E3FC;\n",
              "    }\n",
              "\n",
              "    [theme=dark] .colab-df-convert:hover {\n",
              "      background-color: #434B5C;\n",
              "      box-shadow: 0px 1px 3px 1px rgba(0, 0, 0, 0.15);\n",
              "      filter: drop-shadow(0px 1px 2px rgba(0, 0, 0, 0.3));\n",
              "      fill: #FFFFFF;\n",
              "    }\n",
              "  </style>\n",
              "\n",
              "    <script>\n",
              "      const buttonEl =\n",
              "        document.querySelector('#df-202c35f9-f01d-41ed-86fc-18a4a92c6ce0 button.colab-df-convert');\n",
              "      buttonEl.style.display =\n",
              "        google.colab.kernel.accessAllowed ? 'block' : 'none';\n",
              "\n",
              "      async function convertToInteractive(key) {\n",
              "        const element = document.querySelector('#df-202c35f9-f01d-41ed-86fc-18a4a92c6ce0');\n",
              "        const dataTable =\n",
              "          await google.colab.kernel.invokeFunction('convertToInteractive',\n",
              "                                                    [key], {});\n",
              "        if (!dataTable) return;\n",
              "\n",
              "        const docLinkHtml = 'Like what you see? Visit the ' +\n",
              "          '<a target=\"_blank\" href=https://colab.research.google.com/notebooks/data_table.ipynb>data table notebook</a>'\n",
              "          + ' to learn more about interactive tables.';\n",
              "        element.innerHTML = '';\n",
              "        dataTable['output_type'] = 'display_data';\n",
              "        await google.colab.output.renderOutput(dataTable, element);\n",
              "        const docLink = document.createElement('div');\n",
              "        docLink.innerHTML = docLinkHtml;\n",
              "        element.appendChild(docLink);\n",
              "      }\n",
              "    </script>\n",
              "  </div>\n",
              "\n",
              "\n",
              "<div id=\"df-95728025-2e08-446c-a0f3-6ba4a796af5c\">\n",
              "  <button class=\"colab-df-quickchart\" onclick=\"quickchart('df-95728025-2e08-446c-a0f3-6ba4a796af5c')\"\n",
              "            title=\"Suggest charts\"\n",
              "            style=\"display:none;\">\n",
              "\n",
              "<svg xmlns=\"http://www.w3.org/2000/svg\" height=\"24px\"viewBox=\"0 0 24 24\"\n",
              "     width=\"24px\">\n",
              "    <g>\n",
              "        <path d=\"M19 3H5c-1.1 0-2 .9-2 2v14c0 1.1.9 2 2 2h14c1.1 0 2-.9 2-2V5c0-1.1-.9-2-2-2zM9 17H7v-7h2v7zm4 0h-2V7h2v10zm4 0h-2v-4h2v4z\"/>\n",
              "    </g>\n",
              "</svg>\n",
              "  </button>\n",
              "\n",
              "<style>\n",
              "  .colab-df-quickchart {\n",
              "      --bg-color: #E8F0FE;\n",
              "      --fill-color: #1967D2;\n",
              "      --hover-bg-color: #E2EBFA;\n",
              "      --hover-fill-color: #174EA6;\n",
              "      --disabled-fill-color: #AAA;\n",
              "      --disabled-bg-color: #DDD;\n",
              "  }\n",
              "\n",
              "  [theme=dark] .colab-df-quickchart {\n",
              "      --bg-color: #3B4455;\n",
              "      --fill-color: #D2E3FC;\n",
              "      --hover-bg-color: #434B5C;\n",
              "      --hover-fill-color: #FFFFFF;\n",
              "      --disabled-bg-color: #3B4455;\n",
              "      --disabled-fill-color: #666;\n",
              "  }\n",
              "\n",
              "  .colab-df-quickchart {\n",
              "    background-color: var(--bg-color);\n",
              "    border: none;\n",
              "    border-radius: 50%;\n",
              "    cursor: pointer;\n",
              "    display: none;\n",
              "    fill: var(--fill-color);\n",
              "    height: 32px;\n",
              "    padding: 0;\n",
              "    width: 32px;\n",
              "  }\n",
              "\n",
              "  .colab-df-quickchart:hover {\n",
              "    background-color: var(--hover-bg-color);\n",
              "    box-shadow: 0 1px 2px rgba(60, 64, 67, 0.3), 0 1px 3px 1px rgba(60, 64, 67, 0.15);\n",
              "    fill: var(--button-hover-fill-color);\n",
              "  }\n",
              "\n",
              "  .colab-df-quickchart-complete:disabled,\n",
              "  .colab-df-quickchart-complete:disabled:hover {\n",
              "    background-color: var(--disabled-bg-color);\n",
              "    fill: var(--disabled-fill-color);\n",
              "    box-shadow: none;\n",
              "  }\n",
              "\n",
              "  .colab-df-spinner {\n",
              "    border: 2px solid var(--fill-color);\n",
              "    border-color: transparent;\n",
              "    border-bottom-color: var(--fill-color);\n",
              "    animation:\n",
              "      spin 1s steps(1) infinite;\n",
              "  }\n",
              "\n",
              "  @keyframes spin {\n",
              "    0% {\n",
              "      border-color: transparent;\n",
              "      border-bottom-color: var(--fill-color);\n",
              "      border-left-color: var(--fill-color);\n",
              "    }\n",
              "    20% {\n",
              "      border-color: transparent;\n",
              "      border-left-color: var(--fill-color);\n",
              "      border-top-color: var(--fill-color);\n",
              "    }\n",
              "    30% {\n",
              "      border-color: transparent;\n",
              "      border-left-color: var(--fill-color);\n",
              "      border-top-color: var(--fill-color);\n",
              "      border-right-color: var(--fill-color);\n",
              "    }\n",
              "    40% {\n",
              "      border-color: transparent;\n",
              "      border-right-color: var(--fill-color);\n",
              "      border-top-color: var(--fill-color);\n",
              "    }\n",
              "    60% {\n",
              "      border-color: transparent;\n",
              "      border-right-color: var(--fill-color);\n",
              "    }\n",
              "    80% {\n",
              "      border-color: transparent;\n",
              "      border-right-color: var(--fill-color);\n",
              "      border-bottom-color: var(--fill-color);\n",
              "    }\n",
              "    90% {\n",
              "      border-color: transparent;\n",
              "      border-bottom-color: var(--fill-color);\n",
              "    }\n",
              "  }\n",
              "</style>\n",
              "\n",
              "  <script>\n",
              "    async function quickchart(key) {\n",
              "      const quickchartButtonEl =\n",
              "        document.querySelector('#' + key + ' button');\n",
              "      quickchartButtonEl.disabled = true;  // To prevent multiple clicks.\n",
              "      quickchartButtonEl.classList.add('colab-df-spinner');\n",
              "      try {\n",
              "        const charts = await google.colab.kernel.invokeFunction(\n",
              "            'suggestCharts', [key], {});\n",
              "      } catch (error) {\n",
              "        console.error('Error during call to suggestCharts:', error);\n",
              "      }\n",
              "      quickchartButtonEl.classList.remove('colab-df-spinner');\n",
              "      quickchartButtonEl.classList.add('colab-df-quickchart-complete');\n",
              "    }\n",
              "    (() => {\n",
              "      let quickchartButtonEl =\n",
              "        document.querySelector('#df-95728025-2e08-446c-a0f3-6ba4a796af5c button');\n",
              "      quickchartButtonEl.style.display =\n",
              "        google.colab.kernel.accessAllowed ? 'block' : 'none';\n",
              "    })();\n",
              "  </script>\n",
              "</div>\n",
              "\n",
              "    </div>\n",
              "  </div>\n"
            ],
            "application/vnd.google.colaboratory.intrinsic+json": {
              "type": "dataframe",
              "variable_name": "fifa_df"
            }
          },
          "metadata": {},
          "execution_count": 4
        }
      ],
      "source": [
        "# leer el dataframe usando read_csv\n",
        "fifa_df = pd.read_csv(\"players.csv\", sep=',', header=0)\n",
        "# mostrar los primeros elementos con head\n",
        "fifa_df.head()"
      ]
    },
    {
      "cell_type": "markdown",
      "metadata": {
        "id": "45oYL86ST8RO"
      },
      "source": [
        "## Características del dataset"
      ]
    },
    {
      "cell_type": "markdown",
      "metadata": {
        "id": "NnVgDmdSdZQk"
      },
      "source": [
        "¿Qué tipos de datos contiene nuestro dataframe?"
      ]
    },
    {
      "cell_type": "code",
      "execution_count": 5,
      "metadata": {
        "id": "1kzDpxYK0EvY",
        "colab": {
          "base_uri": "https://localhost:8080/"
        },
        "outputId": "2a9b0d8b-3e78-424e-b09a-8f7009a7512b"
      },
      "outputs": [
        {
          "output_type": "stream",
          "name": "stdout",
          "text": [
            "ID int64\n",
            "Name object\n",
            "Nationality object\n",
            "Club object\n",
            "Jersey Number float64\n",
            "Value object\n",
            "Wage object\n",
            "Age int64\n",
            "Height object\n",
            "Weight object\n",
            "Preferred Foot object\n",
            "Position object\n",
            "Overall int64\n",
            "Potential int64\n",
            "Shooting float64\n",
            "Defense float64\n",
            "Passing float64\n",
            "Physical float64\n",
            "Control float64\n",
            "Mental float64\n",
            "GoalKeeping float64\n"
          ]
        }
      ],
      "source": [
        "for name, t in zip(fifa_df.columns, fifa_df.dtypes):\n",
        "  print(name, t)"
      ]
    },
    {
      "cell_type": "markdown",
      "metadata": {
        "id": "GWsJyCIMtscZ"
      },
      "source": [
        "¿Qué tamaño tiene nuestro dataset?\n",
        "\n",
        "Utiliza el método ```shape``` para conocer el número de filas y columnas en el dataframe."
      ]
    },
    {
      "cell_type": "code",
      "execution_count": 6,
      "metadata": {
        "id": "d3qNHHbAtxNp",
        "colab": {
          "base_uri": "https://localhost:8080/"
        },
        "outputId": "e3d65f82-92e6-473d-8672-93495253954b"
      },
      "outputs": [
        {
          "output_type": "stream",
          "name": "stdout",
          "text": [
            "Filas: 18207\n",
            "Columnas: 21\n"
          ]
        }
      ],
      "source": [
        "m,n = fifa_df.shape# <completa>\n",
        "print(\"Filas:\", m)\n",
        "print(\"Columnas:\", n)"
      ]
    },
    {
      "cell_type": "code",
      "execution_count": 7,
      "metadata": {
        "id": "yjcIL89FuA0u"
      },
      "outputs": [],
      "source": [
        "assert m == 18207 and n == 21, \"Error en las dimensiones\""
      ]
    },
    {
      "cell_type": "markdown",
      "metadata": {
        "id": "xk3ES367UKfQ"
      },
      "source": [
        "### Estadísticas generales del dataset.\n",
        "\n",
        "Usa ```describre()``` para mostrar las estadísticas generales de las columnas numéricas en el dataframe."
      ]
    },
    {
      "cell_type": "code",
      "execution_count": 8,
      "metadata": {
        "id": "QKmF6WUUUKuM",
        "colab": {
          "base_uri": "https://localhost:8080/",
          "height": 329
        },
        "outputId": "4cf4d757-5f25-4575-f20c-903ab32fe5eb"
      },
      "outputs": [
        {
          "output_type": "execute_result",
          "data": {
            "text/plain": [
              "                  ID  Jersey Number           Age       Overall     Potential  \\\n",
              "count   18207.000000   18147.000000  18207.000000  18207.000000  18207.000000   \n",
              "mean   214298.338606      19.546096     25.122206     66.238699     71.307299   \n",
              "std     29965.244204      15.947765      4.669943      6.908930      6.136496   \n",
              "min        16.000000       1.000000     16.000000     46.000000     48.000000   \n",
              "25%    200315.500000       8.000000     21.000000     62.000000     67.000000   \n",
              "50%    221759.000000      17.000000     25.000000     66.000000     71.000000   \n",
              "75%    236529.500000      26.000000     28.000000     71.000000     75.000000   \n",
              "max    246620.000000      99.000000     45.000000     94.000000     95.000000   \n",
              "\n",
              "           Shooting       Defense       Passing      Physical       Control  \\\n",
              "count  18159.000000  18159.000000  18159.000000  18159.000000  18159.000000   \n",
              "mean      47.736274     47.459001     53.710612     64.344512     59.236357   \n",
              "std       15.621702     17.314439     15.113052      9.839120     15.156389   \n",
              "min        7.000000      7.000000      8.000000     22.000000     12.000000   \n",
              "25%       39.000000     35.000000     46.000000     60.000000     54.000000   \n",
              "50%       50.000000     52.000000     57.000000     66.000000     63.000000   \n",
              "75%       59.000000     61.000000     64.000000     71.000000     69.000000   \n",
              "max       88.000000     86.000000     92.000000     89.000000     96.000000   \n",
              "\n",
              "             Mental   GoalKeeping  \n",
              "count  18159.000000  18159.000000  \n",
              "mean      57.958974     16.468087  \n",
              "std        9.933340     17.002775  \n",
              "min       25.000000      1.000000  \n",
              "25%       51.000000     10.000000  \n",
              "50%       58.000000     11.000000  \n",
              "75%       65.000000     12.000000  \n",
              "max       95.000000     89.000000  "
            ],
            "text/html": [
              "\n",
              "  <div id=\"df-6361d43b-5850-4167-b987-83c2541c5f3d\" class=\"colab-df-container\">\n",
              "    <div>\n",
              "<style scoped>\n",
              "    .dataframe tbody tr th:only-of-type {\n",
              "        vertical-align: middle;\n",
              "    }\n",
              "\n",
              "    .dataframe tbody tr th {\n",
              "        vertical-align: top;\n",
              "    }\n",
              "\n",
              "    .dataframe thead th {\n",
              "        text-align: right;\n",
              "    }\n",
              "</style>\n",
              "<table border=\"1\" class=\"dataframe\">\n",
              "  <thead>\n",
              "    <tr style=\"text-align: right;\">\n",
              "      <th></th>\n",
              "      <th>ID</th>\n",
              "      <th>Jersey Number</th>\n",
              "      <th>Age</th>\n",
              "      <th>Overall</th>\n",
              "      <th>Potential</th>\n",
              "      <th>Shooting</th>\n",
              "      <th>Defense</th>\n",
              "      <th>Passing</th>\n",
              "      <th>Physical</th>\n",
              "      <th>Control</th>\n",
              "      <th>Mental</th>\n",
              "      <th>GoalKeeping</th>\n",
              "    </tr>\n",
              "  </thead>\n",
              "  <tbody>\n",
              "    <tr>\n",
              "      <th>count</th>\n",
              "      <td>18207.000000</td>\n",
              "      <td>18147.000000</td>\n",
              "      <td>18207.000000</td>\n",
              "      <td>18207.000000</td>\n",
              "      <td>18207.000000</td>\n",
              "      <td>18159.000000</td>\n",
              "      <td>18159.000000</td>\n",
              "      <td>18159.000000</td>\n",
              "      <td>18159.000000</td>\n",
              "      <td>18159.000000</td>\n",
              "      <td>18159.000000</td>\n",
              "      <td>18159.000000</td>\n",
              "    </tr>\n",
              "    <tr>\n",
              "      <th>mean</th>\n",
              "      <td>214298.338606</td>\n",
              "      <td>19.546096</td>\n",
              "      <td>25.122206</td>\n",
              "      <td>66.238699</td>\n",
              "      <td>71.307299</td>\n",
              "      <td>47.736274</td>\n",
              "      <td>47.459001</td>\n",
              "      <td>53.710612</td>\n",
              "      <td>64.344512</td>\n",
              "      <td>59.236357</td>\n",
              "      <td>57.958974</td>\n",
              "      <td>16.468087</td>\n",
              "    </tr>\n",
              "    <tr>\n",
              "      <th>std</th>\n",
              "      <td>29965.244204</td>\n",
              "      <td>15.947765</td>\n",
              "      <td>4.669943</td>\n",
              "      <td>6.908930</td>\n",
              "      <td>6.136496</td>\n",
              "      <td>15.621702</td>\n",
              "      <td>17.314439</td>\n",
              "      <td>15.113052</td>\n",
              "      <td>9.839120</td>\n",
              "      <td>15.156389</td>\n",
              "      <td>9.933340</td>\n",
              "      <td>17.002775</td>\n",
              "    </tr>\n",
              "    <tr>\n",
              "      <th>min</th>\n",
              "      <td>16.000000</td>\n",
              "      <td>1.000000</td>\n",
              "      <td>16.000000</td>\n",
              "      <td>46.000000</td>\n",
              "      <td>48.000000</td>\n",
              "      <td>7.000000</td>\n",
              "      <td>7.000000</td>\n",
              "      <td>8.000000</td>\n",
              "      <td>22.000000</td>\n",
              "      <td>12.000000</td>\n",
              "      <td>25.000000</td>\n",
              "      <td>1.000000</td>\n",
              "    </tr>\n",
              "    <tr>\n",
              "      <th>25%</th>\n",
              "      <td>200315.500000</td>\n",
              "      <td>8.000000</td>\n",
              "      <td>21.000000</td>\n",
              "      <td>62.000000</td>\n",
              "      <td>67.000000</td>\n",
              "      <td>39.000000</td>\n",
              "      <td>35.000000</td>\n",
              "      <td>46.000000</td>\n",
              "      <td>60.000000</td>\n",
              "      <td>54.000000</td>\n",
              "      <td>51.000000</td>\n",
              "      <td>10.000000</td>\n",
              "    </tr>\n",
              "    <tr>\n",
              "      <th>50%</th>\n",
              "      <td>221759.000000</td>\n",
              "      <td>17.000000</td>\n",
              "      <td>25.000000</td>\n",
              "      <td>66.000000</td>\n",
              "      <td>71.000000</td>\n",
              "      <td>50.000000</td>\n",
              "      <td>52.000000</td>\n",
              "      <td>57.000000</td>\n",
              "      <td>66.000000</td>\n",
              "      <td>63.000000</td>\n",
              "      <td>58.000000</td>\n",
              "      <td>11.000000</td>\n",
              "    </tr>\n",
              "    <tr>\n",
              "      <th>75%</th>\n",
              "      <td>236529.500000</td>\n",
              "      <td>26.000000</td>\n",
              "      <td>28.000000</td>\n",
              "      <td>71.000000</td>\n",
              "      <td>75.000000</td>\n",
              "      <td>59.000000</td>\n",
              "      <td>61.000000</td>\n",
              "      <td>64.000000</td>\n",
              "      <td>71.000000</td>\n",
              "      <td>69.000000</td>\n",
              "      <td>65.000000</td>\n",
              "      <td>12.000000</td>\n",
              "    </tr>\n",
              "    <tr>\n",
              "      <th>max</th>\n",
              "      <td>246620.000000</td>\n",
              "      <td>99.000000</td>\n",
              "      <td>45.000000</td>\n",
              "      <td>94.000000</td>\n",
              "      <td>95.000000</td>\n",
              "      <td>88.000000</td>\n",
              "      <td>86.000000</td>\n",
              "      <td>92.000000</td>\n",
              "      <td>89.000000</td>\n",
              "      <td>96.000000</td>\n",
              "      <td>95.000000</td>\n",
              "      <td>89.000000</td>\n",
              "    </tr>\n",
              "  </tbody>\n",
              "</table>\n",
              "</div>\n",
              "    <div class=\"colab-df-buttons\">\n",
              "\n",
              "  <div class=\"colab-df-container\">\n",
              "    <button class=\"colab-df-convert\" onclick=\"convertToInteractive('df-6361d43b-5850-4167-b987-83c2541c5f3d')\"\n",
              "            title=\"Convert this dataframe to an interactive table.\"\n",
              "            style=\"display:none;\">\n",
              "\n",
              "  <svg xmlns=\"http://www.w3.org/2000/svg\" height=\"24px\" viewBox=\"0 -960 960 960\">\n",
              "    <path d=\"M120-120v-720h720v720H120Zm60-500h600v-160H180v160Zm220 220h160v-160H400v160Zm0 220h160v-160H400v160ZM180-400h160v-160H180v160Zm440 0h160v-160H620v160ZM180-180h160v-160H180v160Zm440 0h160v-160H620v160Z\"/>\n",
              "  </svg>\n",
              "    </button>\n",
              "\n",
              "  <style>\n",
              "    .colab-df-container {\n",
              "      display:flex;\n",
              "      gap: 12px;\n",
              "    }\n",
              "\n",
              "    .colab-df-convert {\n",
              "      background-color: #E8F0FE;\n",
              "      border: none;\n",
              "      border-radius: 50%;\n",
              "      cursor: pointer;\n",
              "      display: none;\n",
              "      fill: #1967D2;\n",
              "      height: 32px;\n",
              "      padding: 0 0 0 0;\n",
              "      width: 32px;\n",
              "    }\n",
              "\n",
              "    .colab-df-convert:hover {\n",
              "      background-color: #E2EBFA;\n",
              "      box-shadow: 0px 1px 2px rgba(60, 64, 67, 0.3), 0px 1px 3px 1px rgba(60, 64, 67, 0.15);\n",
              "      fill: #174EA6;\n",
              "    }\n",
              "\n",
              "    .colab-df-buttons div {\n",
              "      margin-bottom: 4px;\n",
              "    }\n",
              "\n",
              "    [theme=dark] .colab-df-convert {\n",
              "      background-color: #3B4455;\n",
              "      fill: #D2E3FC;\n",
              "    }\n",
              "\n",
              "    [theme=dark] .colab-df-convert:hover {\n",
              "      background-color: #434B5C;\n",
              "      box-shadow: 0px 1px 3px 1px rgba(0, 0, 0, 0.15);\n",
              "      filter: drop-shadow(0px 1px 2px rgba(0, 0, 0, 0.3));\n",
              "      fill: #FFFFFF;\n",
              "    }\n",
              "  </style>\n",
              "\n",
              "    <script>\n",
              "      const buttonEl =\n",
              "        document.querySelector('#df-6361d43b-5850-4167-b987-83c2541c5f3d button.colab-df-convert');\n",
              "      buttonEl.style.display =\n",
              "        google.colab.kernel.accessAllowed ? 'block' : 'none';\n",
              "\n",
              "      async function convertToInteractive(key) {\n",
              "        const element = document.querySelector('#df-6361d43b-5850-4167-b987-83c2541c5f3d');\n",
              "        const dataTable =\n",
              "          await google.colab.kernel.invokeFunction('convertToInteractive',\n",
              "                                                    [key], {});\n",
              "        if (!dataTable) return;\n",
              "\n",
              "        const docLinkHtml = 'Like what you see? Visit the ' +\n",
              "          '<a target=\"_blank\" href=https://colab.research.google.com/notebooks/data_table.ipynb>data table notebook</a>'\n",
              "          + ' to learn more about interactive tables.';\n",
              "        element.innerHTML = '';\n",
              "        dataTable['output_type'] = 'display_data';\n",
              "        await google.colab.output.renderOutput(dataTable, element);\n",
              "        const docLink = document.createElement('div');\n",
              "        docLink.innerHTML = docLinkHtml;\n",
              "        element.appendChild(docLink);\n",
              "      }\n",
              "    </script>\n",
              "  </div>\n",
              "\n",
              "\n",
              "<div id=\"df-fb637d12-a3d1-4664-bda7-6b75c2248535\">\n",
              "  <button class=\"colab-df-quickchart\" onclick=\"quickchart('df-fb637d12-a3d1-4664-bda7-6b75c2248535')\"\n",
              "            title=\"Suggest charts\"\n",
              "            style=\"display:none;\">\n",
              "\n",
              "<svg xmlns=\"http://www.w3.org/2000/svg\" height=\"24px\"viewBox=\"0 0 24 24\"\n",
              "     width=\"24px\">\n",
              "    <g>\n",
              "        <path d=\"M19 3H5c-1.1 0-2 .9-2 2v14c0 1.1.9 2 2 2h14c1.1 0 2-.9 2-2V5c0-1.1-.9-2-2-2zM9 17H7v-7h2v7zm4 0h-2V7h2v10zm4 0h-2v-4h2v4z\"/>\n",
              "    </g>\n",
              "</svg>\n",
              "  </button>\n",
              "\n",
              "<style>\n",
              "  .colab-df-quickchart {\n",
              "      --bg-color: #E8F0FE;\n",
              "      --fill-color: #1967D2;\n",
              "      --hover-bg-color: #E2EBFA;\n",
              "      --hover-fill-color: #174EA6;\n",
              "      --disabled-fill-color: #AAA;\n",
              "      --disabled-bg-color: #DDD;\n",
              "  }\n",
              "\n",
              "  [theme=dark] .colab-df-quickchart {\n",
              "      --bg-color: #3B4455;\n",
              "      --fill-color: #D2E3FC;\n",
              "      --hover-bg-color: #434B5C;\n",
              "      --hover-fill-color: #FFFFFF;\n",
              "      --disabled-bg-color: #3B4455;\n",
              "      --disabled-fill-color: #666;\n",
              "  }\n",
              "\n",
              "  .colab-df-quickchart {\n",
              "    background-color: var(--bg-color);\n",
              "    border: none;\n",
              "    border-radius: 50%;\n",
              "    cursor: pointer;\n",
              "    display: none;\n",
              "    fill: var(--fill-color);\n",
              "    height: 32px;\n",
              "    padding: 0;\n",
              "    width: 32px;\n",
              "  }\n",
              "\n",
              "  .colab-df-quickchart:hover {\n",
              "    background-color: var(--hover-bg-color);\n",
              "    box-shadow: 0 1px 2px rgba(60, 64, 67, 0.3), 0 1px 3px 1px rgba(60, 64, 67, 0.15);\n",
              "    fill: var(--button-hover-fill-color);\n",
              "  }\n",
              "\n",
              "  .colab-df-quickchart-complete:disabled,\n",
              "  .colab-df-quickchart-complete:disabled:hover {\n",
              "    background-color: var(--disabled-bg-color);\n",
              "    fill: var(--disabled-fill-color);\n",
              "    box-shadow: none;\n",
              "  }\n",
              "\n",
              "  .colab-df-spinner {\n",
              "    border: 2px solid var(--fill-color);\n",
              "    border-color: transparent;\n",
              "    border-bottom-color: var(--fill-color);\n",
              "    animation:\n",
              "      spin 1s steps(1) infinite;\n",
              "  }\n",
              "\n",
              "  @keyframes spin {\n",
              "    0% {\n",
              "      border-color: transparent;\n",
              "      border-bottom-color: var(--fill-color);\n",
              "      border-left-color: var(--fill-color);\n",
              "    }\n",
              "    20% {\n",
              "      border-color: transparent;\n",
              "      border-left-color: var(--fill-color);\n",
              "      border-top-color: var(--fill-color);\n",
              "    }\n",
              "    30% {\n",
              "      border-color: transparent;\n",
              "      border-left-color: var(--fill-color);\n",
              "      border-top-color: var(--fill-color);\n",
              "      border-right-color: var(--fill-color);\n",
              "    }\n",
              "    40% {\n",
              "      border-color: transparent;\n",
              "      border-right-color: var(--fill-color);\n",
              "      border-top-color: var(--fill-color);\n",
              "    }\n",
              "    60% {\n",
              "      border-color: transparent;\n",
              "      border-right-color: var(--fill-color);\n",
              "    }\n",
              "    80% {\n",
              "      border-color: transparent;\n",
              "      border-right-color: var(--fill-color);\n",
              "      border-bottom-color: var(--fill-color);\n",
              "    }\n",
              "    90% {\n",
              "      border-color: transparent;\n",
              "      border-bottom-color: var(--fill-color);\n",
              "    }\n",
              "  }\n",
              "</style>\n",
              "\n",
              "  <script>\n",
              "    async function quickchart(key) {\n",
              "      const quickchartButtonEl =\n",
              "        document.querySelector('#' + key + ' button');\n",
              "      quickchartButtonEl.disabled = true;  // To prevent multiple clicks.\n",
              "      quickchartButtonEl.classList.add('colab-df-spinner');\n",
              "      try {\n",
              "        const charts = await google.colab.kernel.invokeFunction(\n",
              "            'suggestCharts', [key], {});\n",
              "      } catch (error) {\n",
              "        console.error('Error during call to suggestCharts:', error);\n",
              "      }\n",
              "      quickchartButtonEl.classList.remove('colab-df-spinner');\n",
              "      quickchartButtonEl.classList.add('colab-df-quickchart-complete');\n",
              "    }\n",
              "    (() => {\n",
              "      let quickchartButtonEl =\n",
              "        document.querySelector('#df-fb637d12-a3d1-4664-bda7-6b75c2248535 button');\n",
              "      quickchartButtonEl.style.display =\n",
              "        google.colab.kernel.accessAllowed ? 'block' : 'none';\n",
              "    })();\n",
              "  </script>\n",
              "</div>\n",
              "\n",
              "    </div>\n",
              "  </div>\n"
            ],
            "application/vnd.google.colaboratory.intrinsic+json": {
              "type": "dataframe",
              "summary": "{\n  \"name\": \"fifa_df\",\n  \"rows\": 8,\n  \"fields\": [\n    {\n      \"column\": \"ID\",\n      \"properties\": {\n        \"dtype\": \"number\",\n        \"std\": 108746.5405921014,\n        \"min\": 16.0,\n        \"max\": 246620.0,\n        \"num_unique_values\": 8,\n        \"samples\": [\n          214298.33860603065,\n          221759.0,\n          18207.0\n        ],\n        \"semantic_type\": \"\",\n        \"description\": \"\"\n      }\n    },\n    {\n      \"column\": \"Jersey Number\",\n      \"properties\": {\n        \"dtype\": \"number\",\n        \"std\": 6406.5864739517465,\n        \"min\": 1.0,\n        \"max\": 18147.0,\n        \"num_unique_values\": 8,\n        \"samples\": [\n          19.546095773406073,\n          17.0,\n          18147.0\n        ],\n        \"semantic_type\": \"\",\n        \"description\": \"\"\n      }\n    },\n    {\n      \"column\": \"Age\",\n      \"properties\": {\n        \"dtype\": \"number\",\n        \"std\": 6428.833371063708,\n        \"min\": 4.66994271341431,\n        \"max\": 18207.0,\n        \"num_unique_values\": 8,\n        \"samples\": [\n          25.122205745043114,\n          25.0,\n          18207.0\n        ],\n        \"semantic_type\": \"\",\n        \"description\": \"\"\n      }\n    },\n    {\n      \"column\": \"Overall\",\n      \"properties\": {\n        \"dtype\": \"number\",\n        \"std\": 6416.378540163929,\n        \"min\": 6.9089296118828925,\n        \"max\": 18207.0,\n        \"num_unique_values\": 8,\n        \"samples\": [\n          66.23869940132916,\n          66.0,\n          18207.0\n        ],\n        \"semantic_type\": \"\",\n        \"description\": \"\"\n      }\n    },\n    {\n      \"column\": \"Potential\",\n      \"properties\": {\n        \"dtype\": \"number\",\n        \"std\": 6415.307444790903,\n        \"min\": 6.13649558349916,\n        \"max\": 18207.0,\n        \"num_unique_values\": 8,\n        \"samples\": [\n          71.30729939034437,\n          71.0,\n          18207.0\n        ],\n        \"semantic_type\": \"\",\n        \"description\": \"\"\n      }\n    },\n    {\n      \"column\": \"Shooting\",\n      \"properties\": {\n        \"dtype\": \"number\",\n        \"std\": 6404.751786687541,\n        \"min\": 7.0,\n        \"max\": 18159.0,\n        \"num_unique_values\": 8,\n        \"samples\": [\n          47.736274023899995,\n          50.0,\n          18159.0\n        ],\n        \"semantic_type\": \"\",\n        \"description\": \"\"\n      }\n    },\n    {\n      \"column\": \"Defense\",\n      \"properties\": {\n        \"dtype\": \"number\",\n        \"std\": 6404.779976950165,\n        \"min\": 7.0,\n        \"max\": 18159.0,\n        \"num_unique_values\": 8,\n        \"samples\": [\n          47.459001046313126,\n          52.0,\n          18159.0\n        ],\n        \"semantic_type\": \"\",\n        \"description\": \"\"\n      }\n    },\n    {\n      \"column\": \"Passing\",\n      \"properties\": {\n        \"dtype\": \"number\",\n        \"std\": 6403.270040016852,\n        \"min\": 8.0,\n        \"max\": 18159.0,\n        \"num_unique_values\": 8,\n        \"samples\": [\n          53.71061181783138,\n          57.0,\n          18159.0\n        ],\n        \"semantic_type\": \"\",\n        \"description\": \"\"\n      }\n    },\n    {\n      \"column\": \"Physical\",\n      \"properties\": {\n        \"dtype\": \"number\",\n        \"std\": 6400.926090521276,\n        \"min\": 9.83911983013039,\n        \"max\": 18159.0,\n        \"num_unique_values\": 8,\n        \"samples\": [\n          64.34451236301558,\n          66.0,\n          18159.0\n        ],\n        \"semantic_type\": \"\",\n        \"description\": \"\"\n      }\n    },\n    {\n      \"column\": \"Control\",\n      \"properties\": {\n        \"dtype\": \"number\",\n        \"std\": 6401.629149981841,\n        \"min\": 12.0,\n        \"max\": 18159.0,\n        \"num_unique_values\": 8,\n        \"samples\": [\n          59.236356627567595,\n          63.0,\n          18159.0\n        ],\n        \"semantic_type\": \"\",\n        \"description\": \"\"\n      }\n    },\n    {\n      \"column\": \"Mental\",\n      \"properties\": {\n        \"dtype\": \"number\",\n        \"std\": 6401.948893030637,\n        \"min\": 9.933339985539897,\n        \"max\": 18159.0,\n        \"num_unique_values\": 8,\n        \"samples\": [\n          57.95897351175726,\n          58.0,\n          18159.0\n        ],\n        \"semantic_type\": \"\",\n        \"description\": \"\"\n      }\n    },\n    {\n      \"column\": \"GoalKeeping\",\n      \"properties\": {\n        \"dtype\": \"number\",\n        \"std\": 6412.332639740527,\n        \"min\": 1.0,\n        \"max\": 18159.0,\n        \"num_unique_values\": 8,\n        \"samples\": [\n          16.468087449749437,\n          11.0,\n          18159.0\n        ],\n        \"semantic_type\": \"\",\n        \"description\": \"\"\n      }\n    }\n  ]\n}"
            }
          },
          "metadata": {},
          "execution_count": 8
        }
      ],
      "source": [
        "fifa_df.describe()"
      ]
    },
    {
      "cell_type": "markdown",
      "metadata": {
        "id": "M7gI3AUceQxn"
      },
      "source": [
        "## Tratamiento de datos\n"
      ]
    },
    {
      "cell_type": "markdown",
      "metadata": {
        "id": "lY9Wx2ZVjLfE"
      },
      "source": [
        "### Datos faltantes\n",
        "\n",
        "Antes de poder hacer transformaciones y operaciones en los datos, es importante identificar la posible existencia de datos faltantes. El método ```isna()``` de pandas, permite obtener un dataframe booleano que identifica entradas faltantes.\n",
        "\n",
        "Usémos ```isna()```, ```sum(axis=0)``` y ```to_frame().T``` para resumir el resultado de datos faltantes como un conteo por columnas:"
      ]
    },
    {
      "cell_type": "code",
      "execution_count": null,
      "metadata": {
        "id": "4V_yaO_lOKnv"
      },
      "outputs": [],
      "source": [
        "fifa_df.isna().sum(axis=0).to_frame().T"
      ]
    },
    {
      "cell_type": "markdown",
      "metadata": {
        "id": "sqr4xWue_fyB"
      },
      "source": [
        "Una manera de tratar con datos faltantes, es eliminar las filas que contienen uno o más datos faltantes, dejando solo registros completos.\n",
        "\n",
        "Ya que para nuestro conjunto de datos la cantidad de faltantes es mínima, podemos usar esta estrategia.\n",
        "\n",
        "Completa la siguiente celda para eliminar filas (```axis=0```) que contengan algún dato faltante (```dropna```):"
      ]
    },
    {
      "cell_type": "code",
      "execution_count": null,
      "metadata": {
        "id": "3mPe2ufH_RF0"
      },
      "outputs": [],
      "source": [
        "t_df = fifa_df.# <completa>"
      ]
    },
    {
      "cell_type": "markdown",
      "metadata": {
        "id": "8uCtFmp1_wsC"
      },
      "source": [
        "Verifica que no hay más datos faltantes:"
      ]
    },
    {
      "cell_type": "code",
      "execution_count": null,
      "metadata": {
        "id": "RvgIwrck_vFw"
      },
      "outputs": [],
      "source": [
        "empty_columns = t_df.isna().sum(axis=0).to_frame().T\n",
        "empty_columns"
      ]
    },
    {
      "cell_type": "code",
      "execution_count": null,
      "metadata": {
        "id": "mnwBq3J1-jp1"
      },
      "outputs": [],
      "source": [
        "assert empty_columns.values.sum() == 0, \"Error, aun hay datos faltantes\""
      ]
    },
    {
      "cell_type": "markdown",
      "metadata": {
        "id": "oiKIUMTTAvVX"
      },
      "source": [
        "Finalmente, reemplazar el dataframe original por el nuevo sin elementos faltantes."
      ]
    },
    {
      "cell_type": "code",
      "execution_count": null,
      "metadata": {
        "id": "0U8cSIyJAvpA"
      },
      "outputs": [],
      "source": [
        "fifa_df = t_df"
      ]
    },
    {
      "cell_type": "markdown",
      "metadata": {
        "id": "-JYl7aVLjHkH"
      },
      "source": [
        "### Transformaciones\n",
        "\n",
        "Las celdas fueron inferidas como tipo ```object``` por pandas. Algunas de éstas contienen datos numéricos que podrían ser útiles para el análisis.\n",
        "\n",
        "Por ejemplo, las columnas ```Wage``` y ```Value``` contienen datos sobre el salario y el valor en el mercado de cada jugador. Ambas columnas contienen el signo de la moneda (€) al inicio y al final pueden contener la abreviación de cantidades (K miles, M millones).\n",
        "\n",
        "Debemos realizar un tratamiento de datos en tales columnas para poder usarlas de manera numérica."
      ]
    },
    {
      "cell_type": "markdown",
      "metadata": {
        "id": "maMPRPAzxbqX"
      },
      "source": [
        "Primero, confirmemos que solo tenemos casos donde las cantidades terminan en K, M o sin abreviaturas. Usemos funciones de agregación.\n",
        "\n",
        "Contemos las veces que aparecen los distintos caracteres al final de los registros en la columna ```Wage```:"
      ]
    },
    {
      "cell_type": "code",
      "execution_count": null,
      "metadata": {
        "id": "VPojzkU5s_iJ"
      },
      "outputs": [],
      "source": [
        "fifa_df[[\"Wage\"]].groupby(fifa_df.Wage.str[-1]).count()"
      ]
    },
    {
      "cell_type": "markdown",
      "metadata": {
        "id": "aOrZkbQru0_0"
      },
      "source": [
        "Contemos las veces que aparecen los distintos caracteres al final de los registros en la columna ```Value```:"
      ]
    },
    {
      "cell_type": "code",
      "execution_count": null,
      "metadata": {
        "id": "y1GjUZ4Gti1d"
      },
      "outputs": [],
      "source": [
        "fifa_df[[\"Value\"]].groupby(fifa_df.Value.str[-1]).count()"
      ]
    },
    {
      "cell_type": "code",
      "execution_count": null,
      "metadata": {
        "id": "0Ar7f3NmeTWu"
      },
      "outputs": [],
      "source": [
        "def currency_to_numeric(currency):\n",
        "  \"\"\"\n",
        "  La funcion recibe valores monetarios en un objeto de texto, los tranforma:\n",
        "  1- Elimina el simbolo de la moneda al inicio de la cadena\n",
        "  2- Extrae el caracter adicional al final de la cadena que indica el\n",
        "     multiplo de la cantidad (abreviatura). No siempre hay un simbolo.\n",
        "  3- Usa el valor para devolver la cantidad en numero (multiplica por el valor).\n",
        "  Ej: 250K pasa a 250000\n",
        "  ya que\n",
        "  1K = 1000\n",
        "  1M = 1000000\n",
        "  Sin letra solo parte numerica\n",
        "  \"\"\"\n",
        "  # el multiplo de K o M\n",
        "  symbols = {\"K\": 1000, \"M\": 1000000}\n",
        "  # Actualiza el valor de numeric con la cantidad en currency\n",
        "  numeric = 0.0\n",
        "\n",
        "  # <completa>\n",
        "\n",
        "  return #<completa>"
      ]
    },
    {
      "cell_type": "markdown",
      "metadata": {
        "id": "fvCFRq0shNl_"
      },
      "source": [
        "Prueba tu función:"
      ]
    },
    {
      "cell_type": "code",
      "execution_count": null,
      "metadata": {
        "id": "LpevNclWhMBm"
      },
      "outputs": [],
      "source": [
        "currency_to_numeric(\"$20\")"
      ]
    },
    {
      "cell_type": "code",
      "execution_count": null,
      "metadata": {
        "id": "Ti7YRyBRzzuk"
      },
      "outputs": [],
      "source": [
        "assert currency_to_numeric(\"$20\") == 20.0 and currency_to_numeric(\"$50K\") == 50*10.0**3 and currency_to_numeric(\"$10M\") == 10*10.0**6, \"Error\""
      ]
    },
    {
      "cell_type": "markdown",
      "metadata": {
        "id": "2qhnh9vLhQSf"
      },
      "source": [
        "Cambia las columnas ```Wage``` y ```Value``` a numéricos usando ```currency_to_numeric``` elemento por elemento con ```applymap```:"
      ]
    },
    {
      "cell_type": "code",
      "execution_count": null,
      "metadata": {
        "id": "Md4hPL9ohZXS"
      },
      "outputs": [],
      "source": [
        "fifa_df[[\"Wage\", \"Value\"]] = fifa_df[[\"Wage\", \"Value\"]].#<completa>\n",
        "fifa_df.head()"
      ]
    },
    {
      "cell_type": "markdown",
      "metadata": {
        "id": "sWhWdHIr4x7O"
      },
      "source": [
        "### Suplementando la información\n",
        "\n",
        "En el set de datos, tenemos una columna ```Position``` que indica la posición en la que el jugador se desempeña en el campo. Algo que podrás notar, es que originalmente la posición está de manera abreviada, si no conoces las abreviaturas, será complicado saber en qué posición juega cada jugador.\n",
        "\n",
        "\n",
        "Para solucionar esto, usémos otro set de datos para cambiar de abreviatura a algo más descriptivo, pero manteniendo la abreviatura.\n",
        "\n",
        "La siguiente imágen muestra las posiciónes más comunes en el campo:\n",
        "![Posiciones de juego](https://raw.githubusercontent.com/jhermosillo/DIPLOMADO_CDP/main/01%20Programaci%C3%B3n%20en%20Python/images/SoccerFieldPositions.png)\n"
      ]
    },
    {
      "cell_type": "markdown",
      "metadata": {
        "id": "juf6Sw6i64es"
      },
      "source": [
        "Vamos a utilizar un nuevo set de datos que contiene la abreviatura de cada posición (```Abbreviation```) y su significado (```Full```).\n",
        "\n",
        "Carga el archivo desde github a colab con la siguiente celda:"
      ]
    },
    {
      "cell_type": "code",
      "execution_count": null,
      "metadata": {
        "id": "EpicEmIrAl7M"
      },
      "outputs": [],
      "source": [
        "# Fetch the dataset using the raw GitHub URL.\n",
        "!curl --remote-name \\\n",
        "     -H 'Accept: application/vnd.github.v3.raw' \\\n",
        "     --location https://raw.githubusercontent.com/DCDPUAEM/DCDP/main/01%20Programaci%C3%B3n%20en%20Python/data/fifa/positions.csv"
      ]
    },
    {
      "cell_type": "markdown",
      "metadata": {
        "id": "_8WhqOUzBxI0"
      },
      "source": [
        "Ejecuta la siguiente celda para crear y ver el nuevo dataframe con los datos de las posiciones:"
      ]
    },
    {
      "cell_type": "code",
      "execution_count": null,
      "metadata": {
        "id": "fEuD-qyI4yWj"
      },
      "outputs": [],
      "source": [
        "positions_df = pd.read_csv(\"positions.csv\", header=0, skipinitialspace=True)\n",
        "positions_df.head()"
      ]
    },
    {
      "cell_type": "markdown",
      "metadata": {
        "id": "ZC62QetW7Ier"
      },
      "source": [
        "Utiliza el nuevo dataframe para actualizar la columna ```Position``` en el dataframe de jugadores por la posición descriptiva + abreviada.\n",
        "\n",
        "Primero, debemos de *unir* ambos dataframes, ambos comparten una columna (pero tienen diferentes nombre) la posición abreviada.\n",
        "\n",
        "Utiliza un método de pandas para unir el dataframe ```fifa_df``` con ```positions_df```.\n",
        "\n",
        "*Tip: Queremos unir cada fila de la **izquierda** (cada jugador) con una sola fila de la **derecha** (su posición completa en el campo).*"
      ]
    },
    {
      "cell_type": "code",
      "execution_count": null,
      "metadata": {
        "id": "1UsLj_dY7UUG"
      },
      "outputs": [],
      "source": [
        "merged_df = fifa_df.# <rellena>"
      ]
    },
    {
      "cell_type": "code",
      "execution_count": null,
      "metadata": {
        "id": "andWs45D6jV5"
      },
      "outputs": [],
      "source": [
        "merged_df.head()"
      ]
    },
    {
      "cell_type": "code",
      "execution_count": null,
      "metadata": {
        "id": "AGYWwD_9C_17"
      },
      "outputs": [],
      "source": [
        "assert len(merged_df.columns) == 23, \"Error\"\n",
        "print(\"La union de ambos dataframes contiene \", len(merged_df.columns), \" columnas\")"
      ]
    },
    {
      "cell_type": "markdown",
      "metadata": {
        "id": "WEZT4Via5wL_"
      },
      "source": [
        "Usemos la nueva columna ```Full``` para actualizar la columna ```Position``` para que contenga el significado y abreviatura de la posición:\n",
        "\n",
        "```merged_df[\"Full\"] + \" (\" + merged_df[\"Position\"] +\")\"```"
      ]
    },
    {
      "cell_type": "code",
      "execution_count": null,
      "metadata": {
        "id": "KVKr0Zry5wcb"
      },
      "outputs": [],
      "source": [
        "merged_df[\"Position\"] = # <completa>"
      ]
    },
    {
      "cell_type": "markdown",
      "metadata": {
        "id": "QXnqnZK6GL9k"
      },
      "source": [
        "Muestra la columna actualizada:"
      ]
    },
    {
      "cell_type": "code",
      "execution_count": null,
      "metadata": {
        "id": "MpKl_59uGLcI"
      },
      "outputs": [],
      "source": [
        "merged_df[\"Position\"].head(3)"
      ]
    },
    {
      "cell_type": "markdown",
      "metadata": {
        "id": "xmeIYYIa5nq5"
      },
      "source": [
        "Ahora, tenemos algunas columnas adicionales que ya no son útiles.\n",
        "\n",
        "Eliminemos las columnas ```Abbreviation``` y ```Full``` del dataframe usando ```drop()```:"
      ]
    },
    {
      "cell_type": "code",
      "execution_count": null,
      "metadata": {
        "id": "_pAUfr7M5oU-"
      },
      "outputs": [],
      "source": [
        "merged_df = merged_df.drop([\"Abbreviation\", \"Full\"], axis=1)"
      ]
    },
    {
      "cell_type": "code",
      "execution_count": null,
      "metadata": {
        "id": "K4Qqvacs68Ri"
      },
      "outputs": [],
      "source": [
        "merged_df.head(3)"
      ]
    },
    {
      "cell_type": "code",
      "execution_count": null,
      "metadata": {
        "id": "YII9iv1PG3Ux"
      },
      "outputs": [],
      "source": [
        "assert len(merged_df.columns) == 21, \"Error\""
      ]
    },
    {
      "cell_type": "markdown",
      "metadata": {
        "id": "zAUeeSXvxU6g"
      },
      "source": [
        "Asignemos al dataframe original ```fifa_df``` el nuevo dataframe con el tratamiento de datos ya realizado:"
      ]
    },
    {
      "cell_type": "code",
      "execution_count": null,
      "metadata": {
        "id": "mFz5iU9SxScb"
      },
      "outputs": [],
      "source": [
        "fifa_df = merged_df\n",
        "fifa_df.head()"
      ]
    },
    {
      "cell_type": "markdown",
      "metadata": {
        "id": "11welP4cjgmM"
      },
      "source": [
        "## Análisis exploratorio\n",
        "\n",
        "En esta sección, utilizarás distintos métodos de los dataframes de pandas para generar un análisis exploratorio. En un análisis exploratorio, se busca explorar, resumir y entender los datos."
      ]
    },
    {
      "cell_type": "markdown",
      "metadata": {
        "id": "KDx_7ASLlnL7"
      },
      "source": [
        "### Jugadores con el mayor valor comercial y jugadores mejores pagados"
      ]
    },
    {
      "cell_type": "markdown",
      "metadata": {
        "id": "Ms3vFmAo15eW"
      },
      "source": [
        "Muestra el **Top 3** de jugadores con mayor valor (```Value```) en el mercado."
      ]
    },
    {
      "cell_type": "code",
      "execution_count": null,
      "metadata": {
        "id": "XJAgwUc2J9y8"
      },
      "outputs": [],
      "source": [
        "fifa_df.# <completa>"
      ]
    },
    {
      "cell_type": "markdown",
      "metadata": {
        "id": "BWtWBTdz1yix"
      },
      "source": [
        "Muestra el **Top 3** de jugadores mejores pagados en el mundo (Salarios más altos, ```Wage```)."
      ]
    },
    {
      "cell_type": "code",
      "execution_count": null,
      "metadata": {
        "id": "1yaixbRm1lgg"
      },
      "outputs": [],
      "source": [
        "fifa_df.# <completa>"
      ]
    },
    {
      "cell_type": "markdown",
      "metadata": {
        "id": "cpSEn-FJjwtT"
      },
      "source": [
        "### Potencial por alcanzar\n",
        "\n",
        "Utiliza operaciones Crea una nueva columna que  muestre el potencial por alcanzar ```Potential left``` de cada jugador en el conjunto de datos. El potencial por alcanzar puede ser calculado mediante ```Potential - Overall```."
      ]
    },
    {
      "cell_type": "code",
      "execution_count": null,
      "metadata": {
        "id": "1fD4LDMJj14v"
      },
      "outputs": [],
      "source": [
        "fifa_df[\"Potential left\"] = # <rellena>\n",
        "fifa_df.head()"
      ]
    },
    {
      "cell_type": "markdown",
      "metadata": {
        "id": "NwYgtvlTmKnq"
      },
      "source": [
        "### Jóvenes promesa\n",
        "\n",
        "Utiliza las funciones de Pandas para encontrar el **top 5** de jugadores \"promesa\" menores de 22 años. Ordena ascendentemente el dataframe según el potencial (```Potential```), potencial por alcanzar (```Potential left```) y su nivel (```Overall ```) actual."
      ]
    },
    {
      "cell_type": "code",
      "execution_count": null,
      "metadata": {
        "id": "5IFX49Jern6K"
      },
      "outputs": [],
      "source": [
        "fifa_df.#<completa>"
      ]
    },
    {
      "cell_type": "markdown",
      "metadata": {
        "id": "vrWYwyCwKfV2"
      },
      "source": [
        "### Mejor defensa en el mundo\n",
        "\n",
        "Encuentra al jugador con el mayor puntaje en la columna ```Defense```:\n",
        "\n",
        "*Tip: utiliza el método ```idxmax``` para encontrar la fila donde se encuentra el mejor defensa. Después usa el índice para acceder a los datos de la fila.*"
      ]
    },
    {
      "cell_type": "code",
      "execution_count": null,
      "metadata": {
        "id": "ZYv8MVn4Kfxg"
      },
      "outputs": [],
      "source": [
        "idx = #<completa>\n",
        "fifa_df[[\"Name\", \"Club\", \"Defense\", \"Position\"]].# <completa>"
      ]
    },
    {
      "cell_type": "markdown",
      "metadata": {
        "id": "kgertLU4k6d1"
      },
      "source": [
        "### Porcentaje pie preferido\n",
        "\n",
        "Calcula el porcentaje mundial de jugadores que prefieren utilizar su pierna derecha para controlar el balón y el porcentaje que prefiere utilizar la pierna izquierda.\n",
        "\n",
        "*Tip: El método ```value_counts()``` de objetos Series podría resultarte particularmente útil para esta tarea.*"
      ]
    },
    {
      "cell_type": "code",
      "execution_count": null,
      "metadata": {
        "id": "sfV8mP74mIv6"
      },
      "outputs": [],
      "source": [
        "# <completa>"
      ]
    },
    {
      "cell_type": "markdown",
      "metadata": {
        "id": "Bd0Gcj0YkitL"
      },
      "source": [
        "### Equipos con mayor talento promedio\n",
        "\n",
        "Utiliza funciones de agregación y de agrupamiento para obtener a los equipos con el mejor promedio de nivel (```Overall```) entre sus jugadores."
      ]
    },
    {
      "cell_type": "code",
      "execution_count": null,
      "metadata": {
        "id": "R2m3dzbemJSc"
      },
      "outputs": [],
      "source": [
        "fifa_df.# <completa>"
      ]
    },
    {
      "cell_type": "markdown",
      "metadata": {
        "id": "sGpOyoqskqAX"
      },
      "source": [
        "### Equipos con más costosos (valor comercial)\n",
        "\n",
        "Utiliza funciones de agregación y agrupamiento para encontrar el valor total de de cada club, esto es, la suma de los valores individuales de los jugadores de los Club.\n",
        "\n",
        "Ordena de manera descendente para mostrar los clubs más costosos del mundo."
      ]
    },
    {
      "cell_type": "code",
      "execution_count": null,
      "metadata": {
        "id": "bncX7I0jmJ0K"
      },
      "outputs": [],
      "source": [
        "fifa_df# <completa>"
      ]
    },
    {
      "cell_type": "markdown",
      "metadata": {
        "id": "7AthXgs1l8hn"
      },
      "source": [
        "### ¿Qué equipos tienen más mexicanos?\n",
        "\n",
        "Muestra un top 5 de equipos con más jugadores mexicanos en el mundo."
      ]
    },
    {
      "cell_type": "markdown",
      "metadata": {
        "id": "bcyrdPV0p6_0"
      },
      "source": [
        "Primero, crea un dataframe que contiene unicamente jugadores mexicanos:\n",
        "\n",
        "*Tip: Filtra el dataframe usando ```Nationality==Mexico```*."
      ]
    },
    {
      "cell_type": "code",
      "execution_count": null,
      "metadata": {
        "id": "3rvkuvn0rKkR"
      },
      "outputs": [],
      "source": [
        "players_mx_df = # <completa>\n",
        "players_mx_df.head(3)"
      ]
    },
    {
      "cell_type": "markdown",
      "metadata": {
        "id": "GOeknoZwpxSQ"
      },
      "source": [
        "Agrupa por el nombre del club y cuenta:"
      ]
    },
    {
      "cell_type": "code",
      "execution_count": null,
      "metadata": {
        "id": "1RN0-mwMJVXI"
      },
      "outputs": [],
      "source": [
        "players_mx_df.# <completa>"
      ]
    },
    {
      "cell_type": "markdown",
      "metadata": {
        "id": "f5Vi_hQCbyDL"
      },
      "source": [
        "## Visualización\n",
        "\n",
        "Utiliza las opciones de visualización de Pandas."
      ]
    },
    {
      "cell_type": "markdown",
      "metadata": {
        "id": "gIE5S2l6kQaL"
      },
      "source": [
        "### Histograma de las edades de los jugadores de futbol\n",
        "\n",
        "Selecciona la columna ``Age``` del dataframe ```fifa_df``` y muestra el histograma usando las opciones de visualización de Pandas:"
      ]
    },
    {
      "cell_type": "code",
      "execution_count": null,
      "metadata": {
        "id": "6zlGLD6Yb8XQ"
      },
      "outputs": [],
      "source": [
        "# <rellena>.plot.hist(bins=10)"
      ]
    },
    {
      "cell_type": "markdown",
      "metadata": {
        "id": "K-ZhgvfWR_rT"
      },
      "source": [
        "### Gráfica de Pie (Preferred Foot)\n",
        "\n",
        "Selecciónes el conteo de valores del pie preferido (columna ```Preferred Foot```) y muestra la información mediante una gráfica de Pie:"
      ]
    },
    {
      "cell_type": "code",
      "execution_count": null,
      "metadata": {
        "id": "wT4II3U_R_51"
      },
      "outputs": [],
      "source": [
        "# <completa>.plot.pie()"
      ]
    },
    {
      "cell_type": "markdown",
      "metadata": {
        "id": "88Quw6tnb88P"
      },
      "source": [
        "### Gráfica de dispersión Edad vs Potential left\n",
        "\n",
        "Ahora, utiliza una gráfica de dispersión para visualizar el comportamiento del potencial por alcanzar (```Potential left```) de acuerdo a las edades de los jugadores:\n",
        "\n",
        "*Tip: La gráfica debe mostrar la edad en un eje y el potencial por alcanzar en el otro.*"
      ]
    },
    {
      "cell_type": "code",
      "execution_count": null,
      "metadata": {
        "id": "A8oJxUi5kc8B"
      },
      "outputs": [],
      "source": [
        "# <completa>.plot.scatter(<completa>)"
      ]
    },
    {
      "cell_type": "markdown",
      "metadata": {
        "id": "SSr_il5HRx5A"
      },
      "source": [
        "¿Qué otras variables o mezcla de variables sería interesante visualizar?"
      ]
    },
    {
      "cell_type": "markdown",
      "metadata": {
        "id": "8NCzkort1t2j"
      },
      "source": [
        "# Desafío Adicional\n",
        "\n",
        "En la práctica con Numpy, creaste un modelo para identificar imágenes de dígitos escritos a mano.\n",
        "\n",
        "Para este nuevo conjunto de datos, ¿podrías usar una metodología similar para encontrar la posición en el campo de un jugador solamente usando los valores de su habilidades?\n",
        "\n",
        "Skills: ```Shooting \tDefense \tPassing \tPhysical \tControl \tMental \tGoalKeeping```"
      ]
    },
    {
      "cell_type": "code",
      "execution_count": null,
      "metadata": {
        "id": "HTOqsnGF1u7E"
      },
      "outputs": [],
      "source": []
    }
  ],
  "metadata": {
    "colab": {
      "provenance": [],
      "include_colab_link": true
    },
    "kernelspec": {
      "display_name": "Python 3 (ipykernel)",
      "language": "python",
      "name": "python3"
    },
    "language_info": {
      "codemirror_mode": {
        "name": "ipython",
        "version": 3
      },
      "file_extension": ".py",
      "mimetype": "text/x-python",
      "name": "python",
      "nbconvert_exporter": "python",
      "pygments_lexer": "ipython3",
      "version": "3.9.13"
    }
  },
  "nbformat": 4,
  "nbformat_minor": 0
}